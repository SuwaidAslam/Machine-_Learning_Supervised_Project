{
  "nbformat": 4,
  "nbformat_minor": 0,
  "metadata": {
    "colab": {
      "name": "Untitled5.ipynb",
      "provenance": [],
      "collapsed_sections": []
    },
    "kernelspec": {
      "name": "python3",
      "display_name": "Python 3"
    },
    "language_info": {
      "name": "python"
    }
  },
  "cells": [
    {
      "cell_type": "markdown",
      "metadata": {
        "id": "FDig9829O3vY"
      },
      "source": [
        "# Import libraries \n",
        "\n"
      ]
    },
    {
      "cell_type": "code",
      "metadata": {
        "id": "x_dL1IBaFHYG"
      },
      "source": [
        "import pandas as pd\n",
        "from sklearn.model_selection import train_test_split\n",
        "import sklearn.metrics as metrics"
      ],
      "execution_count": 1,
      "outputs": []
    },
    {
      "cell_type": "markdown",
      "metadata": {
        "id": "MKC5yvpSJrRv"
      },
      "source": [
        "# Import Datasets"
      ]
    },
    {
      "cell_type": "code",
      "metadata": {
        "id": "ZO_bJntFJudn"
      },
      "source": [
        "# Loading Train Data\n",
        "df_train = pd.read_csv(\"CE802_P3_Data.csv\")\n",
        "# Loading Train Data\n",
        "df_test = pd.read_csv(\"CE802_P3_Test.csv\")\n",
        "df_test_final = df_test[:]"
      ],
      "execution_count": 2,
      "outputs": []
    },
    {
      "cell_type": "markdown",
      "metadata": {
        "id": "1il7tmv9LtbZ"
      },
      "source": [
        "# Exploratory data analysis"
      ]
    },
    {
      "cell_type": "code",
      "metadata": {
        "colab": {
          "base_uri": "https://localhost:8080/",
          "height": 202
        },
        "id": "eneX81ICVj6X",
        "outputId": "d3b05c7d-6a4b-4195-e1cd-38971272377d"
      },
      "source": [
        "df_train.head()"
      ],
      "execution_count": 3,
      "outputs": [
        {
          "output_type": "execute_result",
          "data": {
            "text/html": [
              "<div>\n",
              "<style scoped>\n",
              "    .dataframe tbody tr th:only-of-type {\n",
              "        vertical-align: middle;\n",
              "    }\n",
              "\n",
              "    .dataframe tbody tr th {\n",
              "        vertical-align: top;\n",
              "    }\n",
              "\n",
              "    .dataframe thead th {\n",
              "        text-align: right;\n",
              "    }\n",
              "</style>\n",
              "<table border=\"1\" class=\"dataframe\">\n",
              "  <thead>\n",
              "    <tr style=\"text-align: right;\">\n",
              "      <th></th>\n",
              "      <th>F1</th>\n",
              "      <th>F2</th>\n",
              "      <th>F3</th>\n",
              "      <th>F4</th>\n",
              "      <th>F5</th>\n",
              "      <th>F6</th>\n",
              "      <th>F7</th>\n",
              "      <th>F8</th>\n",
              "      <th>F9</th>\n",
              "      <th>F10</th>\n",
              "      <th>F11</th>\n",
              "      <th>F12</th>\n",
              "      <th>F13</th>\n",
              "      <th>F14</th>\n",
              "      <th>F15</th>\n",
              "      <th>F16</th>\n",
              "      <th>Target</th>\n",
              "    </tr>\n",
              "  </thead>\n",
              "  <tbody>\n",
              "    <tr>\n",
              "      <th>0</th>\n",
              "      <td>-39.32</td>\n",
              "      <td>5.72</td>\n",
              "      <td>-13.83</td>\n",
              "      <td>High</td>\n",
              "      <td>UK</td>\n",
              "      <td>0.03</td>\n",
              "      <td>-200.46</td>\n",
              "      <td>122.09</td>\n",
              "      <td>-2.96</td>\n",
              "      <td>6</td>\n",
              "      <td>2.67</td>\n",
              "      <td>8</td>\n",
              "      <td>607.14</td>\n",
              "      <td>19.19</td>\n",
              "      <td>10523.40</td>\n",
              "      <td>-635.80</td>\n",
              "      <td>1051.99</td>\n",
              "    </tr>\n",
              "    <tr>\n",
              "      <th>1</th>\n",
              "      <td>-29.38</td>\n",
              "      <td>8.20</td>\n",
              "      <td>-11.07</td>\n",
              "      <td>Medium</td>\n",
              "      <td>UK</td>\n",
              "      <td>56.97</td>\n",
              "      <td>-427.78</td>\n",
              "      <td>74.25</td>\n",
              "      <td>-22.94</td>\n",
              "      <td>4</td>\n",
              "      <td>3.84</td>\n",
              "      <td>10</td>\n",
              "      <td>867.03</td>\n",
              "      <td>12.65</td>\n",
              "      <td>10037.04</td>\n",
              "      <td>-469.73</td>\n",
              "      <td>816.64</td>\n",
              "    </tr>\n",
              "    <tr>\n",
              "      <th>2</th>\n",
              "      <td>2.46</td>\n",
              "      <td>20.32</td>\n",
              "      <td>-7.59</td>\n",
              "      <td>Low</td>\n",
              "      <td>Rest</td>\n",
              "      <td>45.00</td>\n",
              "      <td>-329.02</td>\n",
              "      <td>96.98</td>\n",
              "      <td>-10.90</td>\n",
              "      <td>4</td>\n",
              "      <td>13.14</td>\n",
              "      <td>8</td>\n",
              "      <td>-153.66</td>\n",
              "      <td>13.01</td>\n",
              "      <td>15100.28</td>\n",
              "      <td>-662.31</td>\n",
              "      <td>3241.77</td>\n",
              "    </tr>\n",
              "    <tr>\n",
              "      <th>3</th>\n",
              "      <td>16.33</td>\n",
              "      <td>2.76</td>\n",
              "      <td>-8.40</td>\n",
              "      <td>High</td>\n",
              "      <td>Rest</td>\n",
              "      <td>0.12</td>\n",
              "      <td>-196.88</td>\n",
              "      <td>42.45</td>\n",
              "      <td>-12.16</td>\n",
              "      <td>12</td>\n",
              "      <td>1.29</td>\n",
              "      <td>6</td>\n",
              "      <td>1461.87</td>\n",
              "      <td>9.19</td>\n",
              "      <td>22518.15</td>\n",
              "      <td>-1100.35</td>\n",
              "      <td>0.00</td>\n",
              "    </tr>\n",
              "    <tr>\n",
              "      <th>4</th>\n",
              "      <td>-14.93</td>\n",
              "      <td>9.98</td>\n",
              "      <td>-5.28</td>\n",
              "      <td>Medium</td>\n",
              "      <td>USA</td>\n",
              "      <td>557.61</td>\n",
              "      <td>-249.50</td>\n",
              "      <td>76.25</td>\n",
              "      <td>-20.54</td>\n",
              "      <td>8</td>\n",
              "      <td>2.58</td>\n",
              "      <td>2</td>\n",
              "      <td>-433.89</td>\n",
              "      <td>18.44</td>\n",
              "      <td>20111.46</td>\n",
              "      <td>-752.48</td>\n",
              "      <td>0.00</td>\n",
              "    </tr>\n",
              "  </tbody>\n",
              "</table>\n",
              "</div>"
            ],
            "text/plain": [
              "      F1     F2     F3      F4  ...    F14       F15      F16   Target\n",
              "0 -39.32   5.72 -13.83    High  ...  19.19  10523.40  -635.80  1051.99\n",
              "1 -29.38   8.20 -11.07  Medium  ...  12.65  10037.04  -469.73   816.64\n",
              "2   2.46  20.32  -7.59     Low  ...  13.01  15100.28  -662.31  3241.77\n",
              "3  16.33   2.76  -8.40    High  ...   9.19  22518.15 -1100.35     0.00\n",
              "4 -14.93   9.98  -5.28  Medium  ...  18.44  20111.46  -752.48     0.00\n",
              "\n",
              "[5 rows x 17 columns]"
            ]
          },
          "metadata": {
            "tags": []
          },
          "execution_count": 3
        }
      ]
    },
    {
      "cell_type": "code",
      "metadata": {
        "colab": {
          "base_uri": "https://localhost:8080/"
        },
        "id": "bV-I6fAsVn3V",
        "outputId": "11c4ffbd-563a-4be7-d5ea-c5f38794a088"
      },
      "source": [
        "df_train.shape"
      ],
      "execution_count": 4,
      "outputs": [
        {
          "output_type": "execute_result",
          "data": {
            "text/plain": [
              "(1500, 17)"
            ]
          },
          "metadata": {
            "tags": []
          },
          "execution_count": 4
        }
      ]
    },
    {
      "cell_type": "code",
      "metadata": {
        "colab": {
          "base_uri": "https://localhost:8080/"
        },
        "id": "BnUiCt6AWK5j",
        "outputId": "42df5864-bdd8-41b9-a797-e6875a038f66"
      },
      "source": [
        "df_train.columns"
      ],
      "execution_count": 5,
      "outputs": [
        {
          "output_type": "execute_result",
          "data": {
            "text/plain": [
              "Index(['F1', 'F2', 'F3', 'F4', 'F5', 'F6', 'F7', 'F8', 'F9', 'F10', 'F11',\n",
              "       'F12', 'F13', 'F14', 'F15', 'F16', 'Target'],\n",
              "      dtype='object')"
            ]
          },
          "metadata": {
            "tags": []
          },
          "execution_count": 5
        }
      ]
    },
    {
      "cell_type": "code",
      "metadata": {
        "colab": {
          "base_uri": "https://localhost:8080/"
        },
        "id": "ZUYvfojdWQsD",
        "outputId": "f26666f8-910f-4e5b-d35e-5c76b20aead7"
      },
      "source": [
        "df_train.info()"
      ],
      "execution_count": 6,
      "outputs": [
        {
          "output_type": "stream",
          "text": [
            "<class 'pandas.core.frame.DataFrame'>\n",
            "RangeIndex: 1500 entries, 0 to 1499\n",
            "Data columns (total 17 columns):\n",
            " #   Column  Non-Null Count  Dtype  \n",
            "---  ------  --------------  -----  \n",
            " 0   F1      1500 non-null   float64\n",
            " 1   F2      1500 non-null   float64\n",
            " 2   F3      1500 non-null   float64\n",
            " 3   F4      1500 non-null   object \n",
            " 4   F5      1500 non-null   object \n",
            " 5   F6      1500 non-null   float64\n",
            " 6   F7      1500 non-null   float64\n",
            " 7   F8      1500 non-null   float64\n",
            " 8   F9      1500 non-null   float64\n",
            " 9   F10     1500 non-null   int64  \n",
            " 10  F11     1500 non-null   float64\n",
            " 11  F12     1500 non-null   int64  \n",
            " 12  F13     1500 non-null   float64\n",
            " 13  F14     1500 non-null   float64\n",
            " 14  F15     1500 non-null   float64\n",
            " 15  F16     1500 non-null   float64\n",
            " 16  Target  1500 non-null   float64\n",
            "dtypes: float64(13), int64(2), object(2)\n",
            "memory usage: 199.3+ KB\n"
          ],
          "name": "stdout"
        }
      ]
    },
    {
      "cell_type": "code",
      "metadata": {
        "colab": {
          "base_uri": "https://localhost:8080/",
          "height": 314
        },
        "id": "JxVZwIW1WUSF",
        "outputId": "773c5b67-59c3-42cf-b8d9-221e503c5716"
      },
      "source": [
        "df_train.describe()"
      ],
      "execution_count": 7,
      "outputs": [
        {
          "output_type": "execute_result",
          "data": {
            "text/html": [
              "<div>\n",
              "<style scoped>\n",
              "    .dataframe tbody tr th:only-of-type {\n",
              "        vertical-align: middle;\n",
              "    }\n",
              "\n",
              "    .dataframe tbody tr th {\n",
              "        vertical-align: top;\n",
              "    }\n",
              "\n",
              "    .dataframe thead th {\n",
              "        text-align: right;\n",
              "    }\n",
              "</style>\n",
              "<table border=\"1\" class=\"dataframe\">\n",
              "  <thead>\n",
              "    <tr style=\"text-align: right;\">\n",
              "      <th></th>\n",
              "      <th>F1</th>\n",
              "      <th>F2</th>\n",
              "      <th>F3</th>\n",
              "      <th>F6</th>\n",
              "      <th>F7</th>\n",
              "      <th>F8</th>\n",
              "      <th>F9</th>\n",
              "      <th>F10</th>\n",
              "      <th>F11</th>\n",
              "      <th>F12</th>\n",
              "      <th>F13</th>\n",
              "      <th>F14</th>\n",
              "      <th>F15</th>\n",
              "      <th>F16</th>\n",
              "      <th>Target</th>\n",
              "    </tr>\n",
              "  </thead>\n",
              "  <tbody>\n",
              "    <tr>\n",
              "      <th>count</th>\n",
              "      <td>1500.000000</td>\n",
              "      <td>1500.000000</td>\n",
              "      <td>1500.000000</td>\n",
              "      <td>1500.000000</td>\n",
              "      <td>1500.000000</td>\n",
              "      <td>1500.000000</td>\n",
              "      <td>1500.000000</td>\n",
              "      <td>1500.000000</td>\n",
              "      <td>1500.000000</td>\n",
              "      <td>1500.000000</td>\n",
              "      <td>1500.000000</td>\n",
              "      <td>1500.000000</td>\n",
              "      <td>1500.000000</td>\n",
              "      <td>1500.000000</td>\n",
              "      <td>1500.000000</td>\n",
              "    </tr>\n",
              "    <tr>\n",
              "      <th>mean</th>\n",
              "      <td>-14.758033</td>\n",
              "      <td>8.109187</td>\n",
              "      <td>-9.015460</td>\n",
              "      <td>190.808320</td>\n",
              "      <td>-186.426267</td>\n",
              "      <td>94.385960</td>\n",
              "      <td>-14.565747</td>\n",
              "      <td>7.885333</td>\n",
              "      <td>12.124980</td>\n",
              "      <td>7.894667</td>\n",
              "      <td>423.934440</td>\n",
              "      <td>14.453333</td>\n",
              "      <td>14992.228340</td>\n",
              "      <td>-719.008553</td>\n",
              "      <td>922.082533</td>\n",
              "    </tr>\n",
              "    <tr>\n",
              "      <th>std</th>\n",
              "      <td>29.857614</td>\n",
              "      <td>5.812853</td>\n",
              "      <td>9.120078</td>\n",
              "      <td>2322.462888</td>\n",
              "      <td>84.482786</td>\n",
              "      <td>29.306812</td>\n",
              "      <td>6.048501</td>\n",
              "      <td>3.620072</td>\n",
              "      <td>8.681726</td>\n",
              "      <td>3.673405</td>\n",
              "      <td>889.404292</td>\n",
              "      <td>4.183142</td>\n",
              "      <td>4443.035539</td>\n",
              "      <td>301.420683</td>\n",
              "      <td>1092.331874</td>\n",
              "    </tr>\n",
              "    <tr>\n",
              "      <th>min</th>\n",
              "      <td>-119.980000</td>\n",
              "      <td>0.080000</td>\n",
              "      <td>-38.130000</td>\n",
              "      <td>0.000000</td>\n",
              "      <td>-748.360000</td>\n",
              "      <td>4.700000</td>\n",
              "      <td>-33.420000</td>\n",
              "      <td>0.000000</td>\n",
              "      <td>0.120000</td>\n",
              "      <td>0.000000</td>\n",
              "      <td>-2558.400000</td>\n",
              "      <td>-1.800000</td>\n",
              "      <td>-4769.490000</td>\n",
              "      <td>-1769.890000</td>\n",
              "      <td>0.000000</td>\n",
              "    </tr>\n",
              "    <tr>\n",
              "      <th>25%</th>\n",
              "      <td>-35.625000</td>\n",
              "      <td>3.815000</td>\n",
              "      <td>-14.955000</td>\n",
              "      <td>0.390000</td>\n",
              "      <td>-226.425000</td>\n",
              "      <td>74.740000</td>\n",
              "      <td>-18.800000</td>\n",
              "      <td>6.000000</td>\n",
              "      <td>5.835000</td>\n",
              "      <td>6.000000</td>\n",
              "      <td>-183.952500</td>\n",
              "      <td>12.475000</td>\n",
              "      <td>12947.810000</td>\n",
              "      <td>-928.082500</td>\n",
              "      <td>0.000000</td>\n",
              "    </tr>\n",
              "    <tr>\n",
              "      <th>50%</th>\n",
              "      <td>-14.805000</td>\n",
              "      <td>6.740000</td>\n",
              "      <td>-9.330000</td>\n",
              "      <td>3.030000</td>\n",
              "      <td>-186.550000</td>\n",
              "      <td>93.580000</td>\n",
              "      <td>-14.560000</td>\n",
              "      <td>8.000000</td>\n",
              "      <td>10.245000</td>\n",
              "      <td>8.000000</td>\n",
              "      <td>415.455000</td>\n",
              "      <td>14.435000</td>\n",
              "      <td>14993.285000</td>\n",
              "      <td>-715.425000</td>\n",
              "      <td>429.570000</td>\n",
              "    </tr>\n",
              "    <tr>\n",
              "      <th>75%</th>\n",
              "      <td>5.290000</td>\n",
              "      <td>10.945000</td>\n",
              "      <td>-3.150000</td>\n",
              "      <td>20.415000</td>\n",
              "      <td>-144.280000</td>\n",
              "      <td>113.750000</td>\n",
              "      <td>-10.320000</td>\n",
              "      <td>10.000000</td>\n",
              "      <td>16.477500</td>\n",
              "      <td>10.000000</td>\n",
              "      <td>1038.952500</td>\n",
              "      <td>16.345000</td>\n",
              "      <td>17228.420000</td>\n",
              "      <td>-518.160000</td>\n",
              "      <td>1530.205000</td>\n",
              "    </tr>\n",
              "    <tr>\n",
              "      <th>max</th>\n",
              "      <td>103.960000</td>\n",
              "      <td>45.140000</td>\n",
              "      <td>21.180000</td>\n",
              "      <td>82423.590000</td>\n",
              "      <td>194.580000</td>\n",
              "      <td>196.840000</td>\n",
              "      <td>3.480000</td>\n",
              "      <td>20.000000</td>\n",
              "      <td>70.170000</td>\n",
              "      <td>22.000000</td>\n",
              "      <td>3616.620000</td>\n",
              "      <td>42.070000</td>\n",
              "      <td>35345.740000</td>\n",
              "      <td>307.040000</td>\n",
              "      <td>3960.010000</td>\n",
              "    </tr>\n",
              "  </tbody>\n",
              "</table>\n",
              "</div>"
            ],
            "text/plain": [
              "                F1           F2  ...          F16       Target\n",
              "count  1500.000000  1500.000000  ...  1500.000000  1500.000000\n",
              "mean    -14.758033     8.109187  ...  -719.008553   922.082533\n",
              "std      29.857614     5.812853  ...   301.420683  1092.331874\n",
              "min    -119.980000     0.080000  ... -1769.890000     0.000000\n",
              "25%     -35.625000     3.815000  ...  -928.082500     0.000000\n",
              "50%     -14.805000     6.740000  ...  -715.425000   429.570000\n",
              "75%       5.290000    10.945000  ...  -518.160000  1530.205000\n",
              "max     103.960000    45.140000  ...   307.040000  3960.010000\n",
              "\n",
              "[8 rows x 15 columns]"
            ]
          },
          "metadata": {
            "tags": []
          },
          "execution_count": 7
        }
      ]
    },
    {
      "cell_type": "markdown",
      "metadata": {
        "id": "Pdd6lUq7Mr-H"
      },
      "source": [
        "# Data Preprocessing"
      ]
    },
    {
      "cell_type": "markdown",
      "metadata": {
        "id": "eR6ZmjL8aMnf"
      },
      "source": [
        "### Label Encoding"
      ]
    },
    {
      "cell_type": "code",
      "metadata": {
        "colab": {
          "base_uri": "https://localhost:8080/"
        },
        "id": "agvkm3JRYnYM",
        "outputId": "cc174ced-0ea6-4337-bb0f-5870cf7adf7b"
      },
      "source": [
        "df_train[['F4', 'F5']] = df_train[['F4', 'F5']].astype('category')\n",
        "df_test[['F4', 'F5']] = df_test[['F4', 'F5']].astype('category')\n",
        "df_train.dtypes"
      ],
      "execution_count": 8,
      "outputs": [
        {
          "output_type": "execute_result",
          "data": {
            "text/plain": [
              "F1         float64\n",
              "F2         float64\n",
              "F3         float64\n",
              "F4        category\n",
              "F5        category\n",
              "F6         float64\n",
              "F7         float64\n",
              "F8         float64\n",
              "F9         float64\n",
              "F10          int64\n",
              "F11        float64\n",
              "F12          int64\n",
              "F13        float64\n",
              "F14        float64\n",
              "F15        float64\n",
              "F16        float64\n",
              "Target     float64\n",
              "dtype: object"
            ]
          },
          "metadata": {
            "tags": []
          },
          "execution_count": 8
        }
      ]
    },
    {
      "cell_type": "code",
      "metadata": {
        "id": "dZmGzWc1Y7mq"
      },
      "source": [
        "df_train['F4'] = df_train['F4'].cat.codes\n",
        "df_train['F5'] = df_train['F5'].cat.codes\n",
        "df_test['F4'] = df_test['F4'].cat.codes\n",
        "df_test['F5'] = df_test['F5'].cat.codes"
      ],
      "execution_count": 9,
      "outputs": []
    },
    {
      "cell_type": "code",
      "metadata": {
        "colab": {
          "base_uri": "https://localhost:8080/",
          "height": 202
        },
        "id": "BiWH8tFoZjXj",
        "outputId": "2a0c75e1-58c5-477e-8c59-82645b63c692"
      },
      "source": [
        "df_train.head()"
      ],
      "execution_count": 10,
      "outputs": [
        {
          "output_type": "execute_result",
          "data": {
            "text/html": [
              "<div>\n",
              "<style scoped>\n",
              "    .dataframe tbody tr th:only-of-type {\n",
              "        vertical-align: middle;\n",
              "    }\n",
              "\n",
              "    .dataframe tbody tr th {\n",
              "        vertical-align: top;\n",
              "    }\n",
              "\n",
              "    .dataframe thead th {\n",
              "        text-align: right;\n",
              "    }\n",
              "</style>\n",
              "<table border=\"1\" class=\"dataframe\">\n",
              "  <thead>\n",
              "    <tr style=\"text-align: right;\">\n",
              "      <th></th>\n",
              "      <th>F1</th>\n",
              "      <th>F2</th>\n",
              "      <th>F3</th>\n",
              "      <th>F4</th>\n",
              "      <th>F5</th>\n",
              "      <th>F6</th>\n",
              "      <th>F7</th>\n",
              "      <th>F8</th>\n",
              "      <th>F9</th>\n",
              "      <th>F10</th>\n",
              "      <th>F11</th>\n",
              "      <th>F12</th>\n",
              "      <th>F13</th>\n",
              "      <th>F14</th>\n",
              "      <th>F15</th>\n",
              "      <th>F16</th>\n",
              "      <th>Target</th>\n",
              "    </tr>\n",
              "  </thead>\n",
              "  <tbody>\n",
              "    <tr>\n",
              "      <th>0</th>\n",
              "      <td>-39.32</td>\n",
              "      <td>5.72</td>\n",
              "      <td>-13.83</td>\n",
              "      <td>0</td>\n",
              "      <td>2</td>\n",
              "      <td>0.03</td>\n",
              "      <td>-200.46</td>\n",
              "      <td>122.09</td>\n",
              "      <td>-2.96</td>\n",
              "      <td>6</td>\n",
              "      <td>2.67</td>\n",
              "      <td>8</td>\n",
              "      <td>607.14</td>\n",
              "      <td>19.19</td>\n",
              "      <td>10523.40</td>\n",
              "      <td>-635.80</td>\n",
              "      <td>1051.99</td>\n",
              "    </tr>\n",
              "    <tr>\n",
              "      <th>1</th>\n",
              "      <td>-29.38</td>\n",
              "      <td>8.20</td>\n",
              "      <td>-11.07</td>\n",
              "      <td>2</td>\n",
              "      <td>2</td>\n",
              "      <td>56.97</td>\n",
              "      <td>-427.78</td>\n",
              "      <td>74.25</td>\n",
              "      <td>-22.94</td>\n",
              "      <td>4</td>\n",
              "      <td>3.84</td>\n",
              "      <td>10</td>\n",
              "      <td>867.03</td>\n",
              "      <td>12.65</td>\n",
              "      <td>10037.04</td>\n",
              "      <td>-469.73</td>\n",
              "      <td>816.64</td>\n",
              "    </tr>\n",
              "    <tr>\n",
              "      <th>2</th>\n",
              "      <td>2.46</td>\n",
              "      <td>20.32</td>\n",
              "      <td>-7.59</td>\n",
              "      <td>1</td>\n",
              "      <td>1</td>\n",
              "      <td>45.00</td>\n",
              "      <td>-329.02</td>\n",
              "      <td>96.98</td>\n",
              "      <td>-10.90</td>\n",
              "      <td>4</td>\n",
              "      <td>13.14</td>\n",
              "      <td>8</td>\n",
              "      <td>-153.66</td>\n",
              "      <td>13.01</td>\n",
              "      <td>15100.28</td>\n",
              "      <td>-662.31</td>\n",
              "      <td>3241.77</td>\n",
              "    </tr>\n",
              "    <tr>\n",
              "      <th>3</th>\n",
              "      <td>16.33</td>\n",
              "      <td>2.76</td>\n",
              "      <td>-8.40</td>\n",
              "      <td>0</td>\n",
              "      <td>1</td>\n",
              "      <td>0.12</td>\n",
              "      <td>-196.88</td>\n",
              "      <td>42.45</td>\n",
              "      <td>-12.16</td>\n",
              "      <td>12</td>\n",
              "      <td>1.29</td>\n",
              "      <td>6</td>\n",
              "      <td>1461.87</td>\n",
              "      <td>9.19</td>\n",
              "      <td>22518.15</td>\n",
              "      <td>-1100.35</td>\n",
              "      <td>0.00</td>\n",
              "    </tr>\n",
              "    <tr>\n",
              "      <th>4</th>\n",
              "      <td>-14.93</td>\n",
              "      <td>9.98</td>\n",
              "      <td>-5.28</td>\n",
              "      <td>2</td>\n",
              "      <td>3</td>\n",
              "      <td>557.61</td>\n",
              "      <td>-249.50</td>\n",
              "      <td>76.25</td>\n",
              "      <td>-20.54</td>\n",
              "      <td>8</td>\n",
              "      <td>2.58</td>\n",
              "      <td>2</td>\n",
              "      <td>-433.89</td>\n",
              "      <td>18.44</td>\n",
              "      <td>20111.46</td>\n",
              "      <td>-752.48</td>\n",
              "      <td>0.00</td>\n",
              "    </tr>\n",
              "  </tbody>\n",
              "</table>\n",
              "</div>"
            ],
            "text/plain": [
              "      F1     F2     F3  F4  F5  ...      F13    F14       F15      F16   Target\n",
              "0 -39.32   5.72 -13.83   0   2  ...   607.14  19.19  10523.40  -635.80  1051.99\n",
              "1 -29.38   8.20 -11.07   2   2  ...   867.03  12.65  10037.04  -469.73   816.64\n",
              "2   2.46  20.32  -7.59   1   1  ...  -153.66  13.01  15100.28  -662.31  3241.77\n",
              "3  16.33   2.76  -8.40   0   1  ...  1461.87   9.19  22518.15 -1100.35     0.00\n",
              "4 -14.93   9.98  -5.28   2   3  ...  -433.89  18.44  20111.46  -752.48     0.00\n",
              "\n",
              "[5 rows x 17 columns]"
            ]
          },
          "metadata": {
            "tags": []
          },
          "execution_count": 10
        }
      ]
    },
    {
      "cell_type": "markdown",
      "metadata": {
        "id": "IsQeKlVsNNzf"
      },
      "source": [
        "# Spliting our dataset into Training and Validation sets"
      ]
    },
    {
      "cell_type": "code",
      "metadata": {
        "id": "9g6Yxr8PbI5h"
      },
      "source": [
        "# Set variables for the targets and features\n",
        "X = df_train.drop('Target', axis=1)\n",
        "y = df_train['Target']\n",
        "\n",
        "# Split the data into training and validation sets\n",
        "train_X, val_X, train_y, val_y = train_test_split(X, y, test_size=0.2, random_state=7)"
      ],
      "execution_count": 11,
      "outputs": []
    },
    {
      "cell_type": "markdown",
      "metadata": {
        "id": "X1GU2cuJnwsJ"
      },
      "source": [
        "#### Feature Scaling"
      ]
    },
    {
      "cell_type": "code",
      "metadata": {
        "id": "l3Ej0vDynqyA"
      },
      "source": [
        "# data scaling with sklearn\n",
        "from sklearn.preprocessing import StandardScaler\n",
        "\n",
        "# fit scaler on training data\n",
        "scal = StandardScaler().fit(train_X)\n",
        "\n",
        "# transform training data\n",
        "X_train_scal = scal.transform(train_X)\n",
        "\n",
        "# transform validation dataabs\n",
        "X_val_scal = scal.transform(val_X)"
      ],
      "execution_count": 12,
      "outputs": []
    },
    {
      "cell_type": "markdown",
      "metadata": {
        "id": "UlT7FTxVb3iw"
      },
      "source": [
        "# Linear Regression"
      ]
    },
    {
      "cell_type": "code",
      "metadata": {
        "id": "oO2IX_-dbPeS"
      },
      "source": [
        "# import LinearRegression\n",
        "from sklearn.linear_model import LinearRegression"
      ],
      "execution_count": 13,
      "outputs": []
    },
    {
      "cell_type": "code",
      "metadata": {
        "colab": {
          "base_uri": "https://localhost:8080/"
        },
        "id": "TKBGLaH1cTXJ",
        "outputId": "849bb54e-9e3f-4fd0-823f-acb39707d178"
      },
      "source": [
        "# Create the LinearRegression instance and fit it to our training data\n",
        "reg_lr = LinearRegression()\n",
        "\n",
        "reg_lr.fit(X_train_scal, train_y)"
      ],
      "execution_count": 14,
      "outputs": [
        {
          "output_type": "execute_result",
          "data": {
            "text/plain": [
              "LinearRegression(copy_X=True, fit_intercept=True, n_jobs=None, normalize=False)"
            ]
          },
          "metadata": {
            "tags": []
          },
          "execution_count": 14
        }
      ]
    },
    {
      "cell_type": "code",
      "metadata": {
        "colab": {
          "base_uri": "https://localhost:8080/"
        },
        "id": "ZfldhF7kdrf7",
        "outputId": "5b7dbf2f-d1c9-41e5-f7af-cd4f7b7d7d07"
      },
      "source": [
        "# Predict values given the validation features\n",
        "pred_y = reg_lr.predict(X_val_scal)\n",
        "\n",
        "# Calculate the Mean Sequared error as our performance metric\n",
        "MSE = metrics.mean_squared_error(val_y, pred_y, squared=False)\n",
        "MSE_score = []\n",
        "MSE_score.append(MSE)\n",
        "print(\"Mean Sequared Error: \", MSE)"
      ],
      "execution_count": 15,
      "outputs": [
        {
          "output_type": "stream",
          "text": [
            "Mean Sequared Error:  649.9536106279407\n"
          ],
          "name": "stdout"
        }
      ]
    },
    {
      "cell_type": "markdown",
      "metadata": {
        "id": "_D-56fkph0U7"
      },
      "source": [
        "# Ridge regression"
      ]
    },
    {
      "cell_type": "code",
      "metadata": {
        "id": "3zgfSMJWghF2"
      },
      "source": [
        "# import Linear Models\n",
        "from sklearn import linear_model"
      ],
      "execution_count": 16,
      "outputs": []
    },
    {
      "cell_type": "code",
      "metadata": {
        "colab": {
          "base_uri": "https://localhost:8080/"
        },
        "id": "fJgAbALXjdi-",
        "outputId": "549d2d36-c378-45e9-f5f2-394702543cfe"
      },
      "source": [
        "# Create the Ridge Regressor instance and fit it to our training data\n",
        "reg_rd = linear_model.Ridge(alpha=.5)\n",
        "\n",
        "reg_rd.fit(X_train_scal, train_y)"
      ],
      "execution_count": 17,
      "outputs": [
        {
          "output_type": "execute_result",
          "data": {
            "text/plain": [
              "Ridge(alpha=0.5, copy_X=True, fit_intercept=True, max_iter=None,\n",
              "      normalize=False, random_state=None, solver='auto', tol=0.001)"
            ]
          },
          "metadata": {
            "tags": []
          },
          "execution_count": 17
        }
      ]
    },
    {
      "cell_type": "code",
      "metadata": {
        "colab": {
          "base_uri": "https://localhost:8080/"
        },
        "id": "ktnFof0ajgVs",
        "outputId": "43288b76-a094-45af-9622-60f7e24f60bd"
      },
      "source": [
        "# Predict values given the validation features\n",
        "pred_y = reg_rd.predict(X_val_scal)\n",
        "\n",
        "# Calculate the Mean Sequared error as our performance metric\n",
        "MSE = metrics.mean_squared_error(val_y, pred_y, squared=False)\n",
        "MSE_score.append(MSE)\n",
        "print(\"Mean Sequared Error: \", MSE)"
      ],
      "execution_count": 18,
      "outputs": [
        {
          "output_type": "stream",
          "text": [
            "Mean Sequared Error:  649.9697541696715\n"
          ],
          "name": "stdout"
        }
      ]
    },
    {
      "cell_type": "markdown",
      "metadata": {
        "id": "0zgz76N-mCse"
      },
      "source": [
        "# Lasso Reggression"
      ]
    },
    {
      "cell_type": "code",
      "metadata": {
        "colab": {
          "base_uri": "https://localhost:8080/"
        },
        "id": "IML5yt0LmGI8",
        "outputId": "643901fe-c1d7-4997-8645-3a328aced480"
      },
      "source": [
        "# Create the Lasso Regressor instance and fit it to our training data\n",
        "reg_lso = linear_model.Lasso(alpha=0.1)\n",
        "\n",
        "reg_lso.fit(X_train_scal, train_y)"
      ],
      "execution_count": 19,
      "outputs": [
        {
          "output_type": "execute_result",
          "data": {
            "text/plain": [
              "Lasso(alpha=0.1, copy_X=True, fit_intercept=True, max_iter=1000,\n",
              "      normalize=False, positive=False, precompute=False, random_state=None,\n",
              "      selection='cyclic', tol=0.0001, warm_start=False)"
            ]
          },
          "metadata": {
            "tags": []
          },
          "execution_count": 19
        }
      ]
    },
    {
      "cell_type": "code",
      "metadata": {
        "colab": {
          "base_uri": "https://localhost:8080/"
        },
        "id": "qqgJEW9moPSd",
        "outputId": "b41f67a3-5223-4b26-88e1-f53baa3db8d2"
      },
      "source": [
        "# Predict values given the validation features\n",
        "pred_y = reg_lso.predict(X_val_scal)\n",
        "\n",
        "# Calculate the Mean Sequared error as our performance metric\n",
        "MSE = metrics.mean_squared_error(val_y, pred_y, squared=False)\n",
        "MSE_score.append(MSE)\n",
        "print(\"Mean Sequared Error: \", MSE)"
      ],
      "execution_count": 20,
      "outputs": [
        {
          "output_type": "stream",
          "text": [
            "Mean Sequared Error:  649.9323212200409\n"
          ],
          "name": "stdout"
        }
      ]
    },
    {
      "cell_type": "markdown",
      "metadata": {
        "id": "ulQBCvOUkhIu"
      },
      "source": [
        "# Models Score Plot"
      ]
    },
    {
      "cell_type": "code",
      "metadata": {
        "id": "onsG-wiwopal"
      },
      "source": [
        "import numpy as np\n",
        "import matplotlib.pyplot as plt"
      ],
      "execution_count": 21,
      "outputs": []
    },
    {
      "cell_type": "code",
      "metadata": {
        "colab": {
          "base_uri": "https://localhost:8080/",
          "height": 352
        },
        "id": "o5ZrG64kkoCN",
        "outputId": "337ae5e8-5ec5-4767-9645-5dd92e480700"
      },
      "source": [
        "models = ['Linear Regression', 'Ridge regression', 'Lasso Reggression']\n",
        "fig = plt.figure()\n",
        "ax = fig.add_axes([0,0,1,1])\n",
        "ax.bar(models,MSE_score)\n",
        "ax.set_ylabel('Mean Sequared Error Score')\n",
        "ax.set_title('Models')\n",
        "plt.show()"
      ],
      "execution_count": 22,
      "outputs": [
        {
          "output_type": "display_data",
          "data": {
            "image/png": "[encoded data removed]",
            "text/plain": [
              "<Figure size 432x288 with 1 Axes>"
            ]
          },
          "metadata": {
            "tags": [],
            "needs_background": "light"
          }
        }
      ]
    },
    {
      "cell_type": "markdown",
      "metadata": {
        "id": "6ZfSfSwiaOIo"
      },
      "source": [
        "# Prediction on Test Dataset"
      ]
    },
    {
      "cell_type": "markdown",
      "metadata": {
        "id": "JvdC7axvadqr"
      },
      "source": [
        "### Selecting Lasso Regression model, because it has 649.93 Mean Sequared error(minimum MSE is better)"
      ]
    },
    {
      "cell_type": "code",
      "metadata": {
        "colab": {
          "base_uri": "https://localhost:8080/",
          "height": 202
        },
        "id": "VfGLPsfmpt9Q",
        "outputId": "b74f3491-9ec2-4d97-bcf1-34a9ce20e519"
      },
      "source": [
        "df_test.head()"
      ],
      "execution_count": 23,
      "outputs": [
        {
          "output_type": "execute_result",
          "data": {
            "text/html": [
              "<div>\n",
              "<style scoped>\n",
              "    .dataframe tbody tr th:only-of-type {\n",
              "        vertical-align: middle;\n",
              "    }\n",
              "\n",
              "    .dataframe tbody tr th {\n",
              "        vertical-align: top;\n",
              "    }\n",
              "\n",
              "    .dataframe thead th {\n",
              "        text-align: right;\n",
              "    }\n",
              "</style>\n",
              "<table border=\"1\" class=\"dataframe\">\n",
              "  <thead>\n",
              "    <tr style=\"text-align: right;\">\n",
              "      <th></th>\n",
              "      <th>F1</th>\n",
              "      <th>F2</th>\n",
              "      <th>F3</th>\n",
              "      <th>F4</th>\n",
              "      <th>F5</th>\n",
              "      <th>F6</th>\n",
              "      <th>F7</th>\n",
              "      <th>F8</th>\n",
              "      <th>F9</th>\n",
              "      <th>F10</th>\n",
              "      <th>F11</th>\n",
              "      <th>F12</th>\n",
              "      <th>F13</th>\n",
              "      <th>F14</th>\n",
              "      <th>F15</th>\n",
              "      <th>F16</th>\n",
              "      <th>Target</th>\n",
              "    </tr>\n",
              "  </thead>\n",
              "  <tbody>\n",
              "    <tr>\n",
              "      <th>0</th>\n",
              "      <td>-39.37</td>\n",
              "      <td>4.22</td>\n",
              "      <td>-4.05</td>\n",
              "      <td>3</td>\n",
              "      <td>2</td>\n",
              "      <td>83.43</td>\n",
              "      <td>-209.02</td>\n",
              "      <td>101.94</td>\n",
              "      <td>-17.16</td>\n",
              "      <td>2</td>\n",
              "      <td>7.89</td>\n",
              "      <td>10</td>\n",
              "      <td>2373.57</td>\n",
              "      <td>13.11</td>\n",
              "      <td>30843.16</td>\n",
              "      <td>-962.72</td>\n",
              "      <td>NaN</td>\n",
              "    </tr>\n",
              "    <tr>\n",
              "      <th>1</th>\n",
              "      <td>-39.37</td>\n",
              "      <td>7.72</td>\n",
              "      <td>-3.48</td>\n",
              "      <td>4</td>\n",
              "      <td>1</td>\n",
              "      <td>48.30</td>\n",
              "      <td>86.62</td>\n",
              "      <td>107.56</td>\n",
              "      <td>-11.00</td>\n",
              "      <td>18</td>\n",
              "      <td>1.86</td>\n",
              "      <td>10</td>\n",
              "      <td>1475.76</td>\n",
              "      <td>11.71</td>\n",
              "      <td>15657.13</td>\n",
              "      <td>-305.24</td>\n",
              "      <td>NaN</td>\n",
              "    </tr>\n",
              "    <tr>\n",
              "      <th>2</th>\n",
              "      <td>16.25</td>\n",
              "      <td>7.08</td>\n",
              "      <td>-5.31</td>\n",
              "      <td>4</td>\n",
              "      <td>0</td>\n",
              "      <td>1.98</td>\n",
              "      <td>-267.34</td>\n",
              "      <td>23.33</td>\n",
              "      <td>-14.66</td>\n",
              "      <td>8</td>\n",
              "      <td>25.92</td>\n",
              "      <td>6</td>\n",
              "      <td>192.93</td>\n",
              "      <td>17.60</td>\n",
              "      <td>10765.05</td>\n",
              "      <td>-857.16</td>\n",
              "      <td>NaN</td>\n",
              "    </tr>\n",
              "    <tr>\n",
              "      <th>3</th>\n",
              "      <td>23.08</td>\n",
              "      <td>5.82</td>\n",
              "      <td>-5.91</td>\n",
              "      <td>4</td>\n",
              "      <td>2</td>\n",
              "      <td>11.49</td>\n",
              "      <td>-196.52</td>\n",
              "      <td>115.19</td>\n",
              "      <td>-12.14</td>\n",
              "      <td>2</td>\n",
              "      <td>12.87</td>\n",
              "      <td>0</td>\n",
              "      <td>2779.23</td>\n",
              "      <td>13.59</td>\n",
              "      <td>14778.80</td>\n",
              "      <td>-798.06</td>\n",
              "      <td>NaN</td>\n",
              "    </tr>\n",
              "    <tr>\n",
              "      <th>4</th>\n",
              "      <td>-21.30</td>\n",
              "      <td>15.14</td>\n",
              "      <td>-4.02</td>\n",
              "      <td>2</td>\n",
              "      <td>3</td>\n",
              "      <td>0.60</td>\n",
              "      <td>-80.36</td>\n",
              "      <td>75.42</td>\n",
              "      <td>-8.86</td>\n",
              "      <td>10</td>\n",
              "      <td>4.26</td>\n",
              "      <td>8</td>\n",
              "      <td>-441.42</td>\n",
              "      <td>13.62</td>\n",
              "      <td>16328.25</td>\n",
              "      <td>-832.93</td>\n",
              "      <td>NaN</td>\n",
              "    </tr>\n",
              "  </tbody>\n",
              "</table>\n",
              "</div>"
            ],
            "text/plain": [
              "      F1     F2    F3  F4  F5  ...      F13    F14       F15     F16  Target\n",
              "0 -39.37   4.22 -4.05   3   2  ...  2373.57  13.11  30843.16 -962.72     NaN\n",
              "1 -39.37   7.72 -3.48   4   1  ...  1475.76  11.71  15657.13 -305.24     NaN\n",
              "2  16.25   7.08 -5.31   4   0  ...   192.93  17.60  10765.05 -857.16     NaN\n",
              "3  23.08   5.82 -5.91   4   2  ...  2779.23  13.59  14778.80 -798.06     NaN\n",
              "4 -21.30  15.14 -4.02   2   3  ...  -441.42  13.62  16328.25 -832.93     NaN\n",
              "\n",
              "[5 rows x 17 columns]"
            ]
          },
          "metadata": {
            "tags": []
          },
          "execution_count": 23
        }
      ]
    },
    {
      "cell_type": "code",
      "metadata": {
        "id": "RUrqOlN8pyb5"
      },
      "source": [
        "X = df_test.drop('Target', axis=1)"
      ],
      "execution_count": 24,
      "outputs": []
    },
    {
      "cell_type": "markdown",
      "metadata": {
        "id": "8JkyCs6jbNiX"
      },
      "source": [
        "### Feature Scaling"
      ]
    },
    {
      "cell_type": "code",
      "metadata": {
        "id": "rBN34p96p590"
      },
      "source": [
        "# data scaling with sklearn\n",
        "from sklearn.preprocessing import StandardScaler\n",
        "\n",
        "# fit scaler on training data\n",
        "scal = StandardScaler().fit(X)\n",
        "\n",
        "# transform test data\n",
        "X_scal = scal.transform(X)"
      ],
      "execution_count": 25,
      "outputs": []
    },
    {
      "cell_type": "code",
      "metadata": {
        "id": "WjByPE5GqK44"
      },
      "source": [
        "# Predict values given the validation features with Lasso Regression\n",
        "pred_y = reg_lso.predict(X_scal)"
      ],
      "execution_count": 26,
      "outputs": []
    },
    {
      "cell_type": "code",
      "metadata": {
        "colab": {
          "base_uri": "https://localhost:8080/",
          "height": 202
        },
        "id": "5sMxYCS3qbRw",
        "outputId": "d2273d6c-732b-4437-8c60-bfac176c8b43"
      },
      "source": [
        "# Setting Target column to predicted values\n",
        "df_test_final[\"Target\"] = pred_y\n",
        "df_test_final.head()"
      ],
      "execution_count": 27,
      "outputs": [
        {
          "output_type": "execute_result",
          "data": {
            "text/html": [
              "<div>\n",
              "<style scoped>\n",
              "    .dataframe tbody tr th:only-of-type {\n",
              "        vertical-align: middle;\n",
              "    }\n",
              "\n",
              "    .dataframe tbody tr th {\n",
              "        vertical-align: top;\n",
              "    }\n",
              "\n",
              "    .dataframe thead th {\n",
              "        text-align: right;\n",
              "    }\n",
              "</style>\n",
              "<table border=\"1\" class=\"dataframe\">\n",
              "  <thead>\n",
              "    <tr style=\"text-align: right;\">\n",
              "      <th></th>\n",
              "      <th>F1</th>\n",
              "      <th>F2</th>\n",
              "      <th>F3</th>\n",
              "      <th>F4</th>\n",
              "      <th>F5</th>\n",
              "      <th>F6</th>\n",
              "      <th>F7</th>\n",
              "      <th>F8</th>\n",
              "      <th>F9</th>\n",
              "      <th>F10</th>\n",
              "      <th>F11</th>\n",
              "      <th>F12</th>\n",
              "      <th>F13</th>\n",
              "      <th>F14</th>\n",
              "      <th>F15</th>\n",
              "      <th>F16</th>\n",
              "      <th>Target</th>\n",
              "    </tr>\n",
              "  </thead>\n",
              "  <tbody>\n",
              "    <tr>\n",
              "      <th>0</th>\n",
              "      <td>-39.37</td>\n",
              "      <td>4.22</td>\n",
              "      <td>-4.05</td>\n",
              "      <td>Very high</td>\n",
              "      <td>UK</td>\n",
              "      <td>83.43</td>\n",
              "      <td>-209.02</td>\n",
              "      <td>101.94</td>\n",
              "      <td>-17.16</td>\n",
              "      <td>2</td>\n",
              "      <td>7.89</td>\n",
              "      <td>10</td>\n",
              "      <td>2373.57</td>\n",
              "      <td>13.11</td>\n",
              "      <td>30843.16</td>\n",
              "      <td>-962.72</td>\n",
              "      <td>1552.928298</td>\n",
              "    </tr>\n",
              "    <tr>\n",
              "      <th>1</th>\n",
              "      <td>-39.37</td>\n",
              "      <td>7.72</td>\n",
              "      <td>-3.48</td>\n",
              "      <td>Very low</td>\n",
              "      <td>Rest</td>\n",
              "      <td>48.30</td>\n",
              "      <td>86.62</td>\n",
              "      <td>107.56</td>\n",
              "      <td>-11.00</td>\n",
              "      <td>18</td>\n",
              "      <td>1.86</td>\n",
              "      <td>10</td>\n",
              "      <td>1475.76</td>\n",
              "      <td>11.71</td>\n",
              "      <td>15657.13</td>\n",
              "      <td>-305.24</td>\n",
              "      <td>553.210413</td>\n",
              "    </tr>\n",
              "    <tr>\n",
              "      <th>2</th>\n",
              "      <td>16.25</td>\n",
              "      <td>7.08</td>\n",
              "      <td>-5.31</td>\n",
              "      <td>Very low</td>\n",
              "      <td>Europe</td>\n",
              "      <td>1.98</td>\n",
              "      <td>-267.34</td>\n",
              "      <td>23.33</td>\n",
              "      <td>-14.66</td>\n",
              "      <td>8</td>\n",
              "      <td>25.92</td>\n",
              "      <td>6</td>\n",
              "      <td>192.93</td>\n",
              "      <td>17.60</td>\n",
              "      <td>10765.05</td>\n",
              "      <td>-857.16</td>\n",
              "      <td>-20.671049</td>\n",
              "    </tr>\n",
              "    <tr>\n",
              "      <th>3</th>\n",
              "      <td>23.08</td>\n",
              "      <td>5.82</td>\n",
              "      <td>-5.91</td>\n",
              "      <td>Very low</td>\n",
              "      <td>UK</td>\n",
              "      <td>11.49</td>\n",
              "      <td>-196.52</td>\n",
              "      <td>115.19</td>\n",
              "      <td>-12.14</td>\n",
              "      <td>2</td>\n",
              "      <td>12.87</td>\n",
              "      <td>0</td>\n",
              "      <td>2779.23</td>\n",
              "      <td>13.59</td>\n",
              "      <td>14778.80</td>\n",
              "      <td>-798.06</td>\n",
              "      <td>1702.529186</td>\n",
              "    </tr>\n",
              "    <tr>\n",
              "      <th>4</th>\n",
              "      <td>-21.30</td>\n",
              "      <td>15.14</td>\n",
              "      <td>-4.02</td>\n",
              "      <td>Medium</td>\n",
              "      <td>USA</td>\n",
              "      <td>0.60</td>\n",
              "      <td>-80.36</td>\n",
              "      <td>75.42</td>\n",
              "      <td>-8.86</td>\n",
              "      <td>10</td>\n",
              "      <td>4.26</td>\n",
              "      <td>8</td>\n",
              "      <td>-441.42</td>\n",
              "      <td>13.62</td>\n",
              "      <td>16328.25</td>\n",
              "      <td>-832.93</td>\n",
              "      <td>371.816478</td>\n",
              "    </tr>\n",
              "  </tbody>\n",
              "</table>\n",
              "</div>"
            ],
            "text/plain": [
              "      F1     F2    F3         F4  ...    F14       F15     F16       Target\n",
              "0 -39.37   4.22 -4.05  Very high  ...  13.11  30843.16 -962.72  1552.928298\n",
              "1 -39.37   7.72 -3.48   Very low  ...  11.71  15657.13 -305.24   553.210413\n",
              "2  16.25   7.08 -5.31   Very low  ...  17.60  10765.05 -857.16   -20.671049\n",
              "3  23.08   5.82 -5.91   Very low  ...  13.59  14778.80 -798.06  1702.529186\n",
              "4 -21.30  15.14 -4.02     Medium  ...  13.62  16328.25 -832.93   371.816478\n",
              "\n",
              "[5 rows x 17 columns]"
            ]
          },
          "metadata": {
            "tags": []
          },
          "execution_count": 27
        }
      ]
    },
    {
      "cell_type": "code",
      "metadata": {
        "id": "IXe2xFVNqlaK"
      },
      "source": [
        "# Exporting Tested data as csv file\n",
        "df_test_final.to_csv(\"CE802_P3_Test.csv\", index = False)"
      ],
      "execution_count": 28,
      "outputs": []
    }
  ]
}