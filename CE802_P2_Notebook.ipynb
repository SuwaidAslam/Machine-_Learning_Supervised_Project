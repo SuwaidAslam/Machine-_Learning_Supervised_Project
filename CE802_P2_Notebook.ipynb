{
  "nbformat": 4,
  "nbformat_minor": 0,
  "metadata": {
    "colab": {
      "name": "CE802_P2_Notebook.ipynb",
      "provenance": []
    },
    "kernelspec": {
      "name": "python3",
      "display_name": "Python 3"
    },
    "language_info": {
      "name": "python"
    }
  },
  "cells": [
    {
      "cell_type": "markdown",
      "metadata": {
        "id": "FDig9829O3vY"
      },
      "source": [
        "# Import libraries \n",
        "\n"
      ]
    },
    {
      "cell_type": "code",
      "metadata": {
        "id": "x_dL1IBaFHYG"
      },
      "source": [
        "import pandas as pd\n",
        "from sklearn.model_selection import train_test_split\n",
        "import sklearn.metrics as metrics"
      ],
      "execution_count": 1,
      "outputs": []
    },
    {
      "cell_type": "markdown",
      "metadata": {
        "id": "MKC5yvpSJrRv"
      },
      "source": [
        "# Import Datasets"
      ]
    },
    {
      "cell_type": "code",
      "metadata": {
        "id": "ZO_bJntFJudn"
      },
      "source": [
        "# Loading Train Data\n",
        "df_train = pd.read_csv(\"CE802_P2_Data.csv\")\n",
        "# Loading Train Data\n",
        "df_test = pd.read_csv(\"CE802_P2_Test.csv\")"
      ],
      "execution_count": 2,
      "outputs": []
    },
    {
      "cell_type": "markdown",
      "metadata": {
        "id": "1il7tmv9LtbZ"
      },
      "source": [
        "# Exploratory data analysis"
      ]
    },
    {
      "cell_type": "code",
      "metadata": {
        "colab": {
          "base_uri": "https://localhost:8080/",
          "height": 202
        },
        "id": "3yAcj-niKpyZ",
        "outputId": "08463130-6eb5-4a34-e6c9-5a7ce1c61161"
      },
      "source": [
        "df_train.head()"
      ],
      "execution_count": 3,
      "outputs": [
        {
          "output_type": "execute_result",
          "data": {
            "text/html": [
              "<div>\n",
              "<style scoped>\n",
              "    .dataframe tbody tr th:only-of-type {\n",
              "        vertical-align: middle;\n",
              "    }\n",
              "\n",
              "    .dataframe tbody tr th {\n",
              "        vertical-align: top;\n",
              "    }\n",
              "\n",
              "    .dataframe thead th {\n",
              "        text-align: right;\n",
              "    }\n",
              "</style>\n",
              "<table border=\"1\" class=\"dataframe\">\n",
              "  <thead>\n",
              "    <tr style=\"text-align: right;\">\n",
              "      <th></th>\n",
              "      <th>F1</th>\n",
              "      <th>F2</th>\n",
              "      <th>F3</th>\n",
              "      <th>F4</th>\n",
              "      <th>F5</th>\n",
              "      <th>F6</th>\n",
              "      <th>F7</th>\n",
              "      <th>F8</th>\n",
              "      <th>F9</th>\n",
              "      <th>F10</th>\n",
              "      <th>F11</th>\n",
              "      <th>F12</th>\n",
              "      <th>F13</th>\n",
              "      <th>F14</th>\n",
              "      <th>F15</th>\n",
              "      <th>Class</th>\n",
              "    </tr>\n",
              "  </thead>\n",
              "  <tbody>\n",
              "    <tr>\n",
              "      <th>0</th>\n",
              "      <td>30</td>\n",
              "      <td>186.88</td>\n",
              "      <td>-21.06</td>\n",
              "      <td>-17.68</td>\n",
              "      <td>14.20</td>\n",
              "      <td>563.22</td>\n",
              "      <td>-3.29</td>\n",
              "      <td>-5.32</td>\n",
              "      <td>-18.90</td>\n",
              "      <td>9.20</td>\n",
              "      <td>-9.44</td>\n",
              "      <td>10.89</td>\n",
              "      <td>-8.54</td>\n",
              "      <td>510</td>\n",
              "      <td>NaN</td>\n",
              "      <td>False</td>\n",
              "    </tr>\n",
              "    <tr>\n",
              "      <th>1</th>\n",
              "      <td>30</td>\n",
              "      <td>196.88</td>\n",
              "      <td>-22.89</td>\n",
              "      <td>-19.38</td>\n",
              "      <td>19.70</td>\n",
              "      <td>353.22</td>\n",
              "      <td>-5.71</td>\n",
              "      <td>-1.48</td>\n",
              "      <td>-18.33</td>\n",
              "      <td>7.15</td>\n",
              "      <td>-8.58</td>\n",
              "      <td>15.89</td>\n",
              "      <td>-8.44</td>\n",
              "      <td>760</td>\n",
              "      <td>7.22</td>\n",
              "      <td>False</td>\n",
              "    </tr>\n",
              "    <tr>\n",
              "      <th>2</th>\n",
              "      <td>30</td>\n",
              "      <td>96.88</td>\n",
              "      <td>-19.65</td>\n",
              "      <td>-16.46</td>\n",
              "      <td>17.30</td>\n",
              "      <td>398.22</td>\n",
              "      <td>-5.19</td>\n",
              "      <td>-1.96</td>\n",
              "      <td>-14.64</td>\n",
              "      <td>7.10</td>\n",
              "      <td>-9.18</td>\n",
              "      <td>20.89</td>\n",
              "      <td>-8.79</td>\n",
              "      <td>610</td>\n",
              "      <td>7.69</td>\n",
              "      <td>False</td>\n",
              "    </tr>\n",
              "    <tr>\n",
              "      <th>3</th>\n",
              "      <td>3</td>\n",
              "      <td>216.88</td>\n",
              "      <td>-33.24</td>\n",
              "      <td>-27.80</td>\n",
              "      <td>0.84</td>\n",
              "      <td>344.22</td>\n",
              "      <td>-0.86</td>\n",
              "      <td>-6.89</td>\n",
              "      <td>-14.73</td>\n",
              "      <td>0.09</td>\n",
              "      <td>-17.98</td>\n",
              "      <td>7.89</td>\n",
              "      <td>-3.78</td>\n",
              "      <td>32</td>\n",
              "      <td>NaN</td>\n",
              "      <td>False</td>\n",
              "    </tr>\n",
              "    <tr>\n",
              "      <th>4</th>\n",
              "      <td>3</td>\n",
              "      <td>198.88</td>\n",
              "      <td>-32.52</td>\n",
              "      <td>-26.26</td>\n",
              "      <td>1.52</td>\n",
              "      <td>278.22</td>\n",
              "      <td>0.08</td>\n",
              "      <td>-7.73</td>\n",
              "      <td>-13.62</td>\n",
              "      <td>1.91</td>\n",
              "      <td>-23.94</td>\n",
              "      <td>7.89</td>\n",
              "      <td>-3.25</td>\n",
              "      <td>36</td>\n",
              "      <td>NaN</td>\n",
              "      <td>True</td>\n",
              "    </tr>\n",
              "  </tbody>\n",
              "</table>\n",
              "</div>"
            ],
            "text/plain": [
              "   F1      F2     F3     F4     F5  ...    F12   F13  F14   F15  Class\n",
              "0  30  186.88 -21.06 -17.68  14.20  ...  10.89 -8.54  510   NaN  False\n",
              "1  30  196.88 -22.89 -19.38  19.70  ...  15.89 -8.44  760  7.22  False\n",
              "2  30   96.88 -19.65 -16.46  17.30  ...  20.89 -8.79  610  7.69  False\n",
              "3   3  216.88 -33.24 -27.80   0.84  ...   7.89 -3.78   32   NaN  False\n",
              "4   3  198.88 -32.52 -26.26   1.52  ...   7.89 -3.25   36   NaN   True\n",
              "\n",
              "[5 rows x 16 columns]"
            ]
          },
          "metadata": {
            "tags": []
          },
          "execution_count": 3
        }
      ]
    },
    {
      "cell_type": "code",
      "metadata": {
        "colab": {
          "base_uri": "https://localhost:8080/"
        },
        "id": "_R7sbBjBKp1G",
        "outputId": "a96fa8a4-5bbf-4e0a-f019-4139472d6a96"
      },
      "source": [
        "df_train.shape"
      ],
      "execution_count": 4,
      "outputs": [
        {
          "output_type": "execute_result",
          "data": {
            "text/plain": [
              "(1500, 16)"
            ]
          },
          "metadata": {
            "tags": []
          },
          "execution_count": 4
        }
      ]
    },
    {
      "cell_type": "code",
      "metadata": {
        "colab": {
          "base_uri": "https://localhost:8080/"
        },
        "id": "HItopwm1OYWF",
        "outputId": "143a46ba-8795-4405-dc62-70811a71ee3f"
      },
      "source": [
        "df_train.columns"
      ],
      "execution_count": 5,
      "outputs": [
        {
          "output_type": "execute_result",
          "data": {
            "text/plain": [
              "Index(['F1', 'F2', 'F3', 'F4', 'F5', 'F6', 'F7', 'F8', 'F9', 'F10', 'F11',\n",
              "       'F12', 'F13', 'F14', 'F15', 'Class'],\n",
              "      dtype='object')"
            ]
          },
          "metadata": {
            "tags": []
          },
          "execution_count": 5
        }
      ]
    },
    {
      "cell_type": "code",
      "metadata": {
        "colab": {
          "base_uri": "https://localhost:8080/"
        },
        "id": "-07uka-iPMZt",
        "outputId": "36959d80-e4f3-4a6d-d6c4-a94a09645407"
      },
      "source": [
        "df_train.info()"
      ],
      "execution_count": 6,
      "outputs": [
        {
          "output_type": "stream",
          "text": [
            "<class 'pandas.core.frame.DataFrame'>\n",
            "RangeIndex: 1500 entries, 0 to 1499\n",
            "Data columns (total 16 columns):\n",
            " #   Column  Non-Null Count  Dtype  \n",
            "---  ------  --------------  -----  \n",
            " 0   F1      1500 non-null   int64  \n",
            " 1   F2      1500 non-null   float64\n",
            " 2   F3      1500 non-null   float64\n",
            " 3   F4      1500 non-null   float64\n",
            " 4   F5      1500 non-null   float64\n",
            " 5   F6      1500 non-null   float64\n",
            " 6   F7      1500 non-null   float64\n",
            " 7   F8      1500 non-null   float64\n",
            " 8   F9      1500 non-null   float64\n",
            " 9   F10     1500 non-null   float64\n",
            " 10  F11     1500 non-null   float64\n",
            " 11  F12     1500 non-null   float64\n",
            " 12  F13     1500 non-null   float64\n",
            " 13  F14     1500 non-null   int64  \n",
            " 14  F15     750 non-null    float64\n",
            " 15  Class   1500 non-null   bool   \n",
            "dtypes: bool(1), float64(13), int64(2)\n",
            "memory usage: 177.4 KB\n"
          ],
          "name": "stdout"
        }
      ]
    },
    {
      "cell_type": "markdown",
      "metadata": {
        "id": "Pdd6lUq7Mr-H"
      },
      "source": [
        "# Data Preprocessing"
      ]
    },
    {
      "cell_type": "code",
      "metadata": {
        "id": "HjdL4yixLyeM"
      },
      "source": [
        "# drping entire row that has nan value\n",
        "df_train.dropna(subset=['F15'], axis=0,inplace= True)\n",
        "df_test.dropna(subset=['F15'], axis=0,inplace= True)"
      ],
      "execution_count": 7,
      "outputs": []
    },
    {
      "cell_type": "code",
      "metadata": {
        "colab": {
          "base_uri": "https://localhost:8080/"
        },
        "id": "Wb86hOBtMd-H",
        "outputId": "38b5f097-ec2f-48da-ce6c-ab1968152b8d"
      },
      "source": [
        "df_train.shape"
      ],
      "execution_count": 8,
      "outputs": [
        {
          "output_type": "execute_result",
          "data": {
            "text/plain": [
              "(750, 16)"
            ]
          },
          "metadata": {
            "tags": []
          },
          "execution_count": 8
        }
      ]
    },
    {
      "cell_type": "markdown",
      "metadata": {
        "id": "IsQeKlVsNNzf"
      },
      "source": [
        "# Spliting our dataset into Training and Validation sets"
      ]
    },
    {
      "cell_type": "code",
      "metadata": {
        "id": "Ie6b0TshMf_2"
      },
      "source": [
        "# Set variables for the targets and features\n",
        "X = df_train.drop('Class', axis=1)\n",
        "y = df_train['Class']\n",
        "\n",
        "# Split the data into training and validation sets\n",
        "train_X, val_X, train_y, val_y = train_test_split(X, y, test_size=0.2, random_state=7)"
      ],
      "execution_count": 9,
      "outputs": []
    },
    {
      "cell_type": "markdown",
      "metadata": {
        "id": "0u8agyPoOqbU"
      },
      "source": [
        "# Decision Tree Classifier"
      ]
    },
    {
      "cell_type": "code",
      "metadata": {
        "id": "bcbUP-lQOM1O"
      },
      "source": [
        "# import DecisionTreeClassifier\n",
        "from sklearn.tree import DecisionTreeClassifier"
      ],
      "execution_count": 10,
      "outputs": []
    },
    {
      "cell_type": "code",
      "metadata": {
        "colab": {
          "base_uri": "https://localhost:8080/"
        },
        "id": "utTyEO4NPr6s",
        "outputId": "2f6eef34-d321-4e6b-df7a-cdd9dbc1747a"
      },
      "source": [
        "# instantiate the DecisionTreeClassifier model\n",
        "clf_dt = DecisionTreeClassifier(criterion='entropy', max_depth=3, random_state=0)\n",
        "\n",
        "# fit the model\n",
        "clf_dt.fit(train_X, train_y)"
      ],
      "execution_count": 11,
      "outputs": [
        {
          "output_type": "execute_result",
          "data": {
            "text/plain": [
              "DecisionTreeClassifier(ccp_alpha=0.0, class_weight=None, criterion='entropy',\n",
              "                       max_depth=3, max_features=None, max_leaf_nodes=None,\n",
              "                       min_impurity_decrease=0.0, min_impurity_split=None,\n",
              "                       min_samples_leaf=1, min_samples_split=2,\n",
              "                       min_weight_fraction_leaf=0.0, presort='deprecated',\n",
              "                       random_state=0, splitter='best')"
            ]
          },
          "metadata": {
            "tags": []
          },
          "execution_count": 11
        }
      ]
    },
    {
      "cell_type": "code",
      "metadata": {
        "colab": {
          "base_uri": "https://localhost:8080/"
        },
        "id": "iOTX8lYEQ87L",
        "outputId": "b127bdae-daf3-4eb2-b518-d0796fa67bac"
      },
      "source": [
        "# Predict classes given the validation features\n",
        "pred_y = clf_dt.predict(val_X)\n",
        "\n",
        "# Calculate the accuracy as our performance metric\n",
        "accuracy = metrics.accuracy_score(val_y, pred_y)\n",
        "accuracy_scores = []\n",
        "accuracy_scores.append(accuracy)\n",
        "print(\"Accuracy: \", accuracy)"
      ],
      "execution_count": 12,
      "outputs": [
        {
          "output_type": "stream",
          "text": [
            "Accuracy:  0.86\n"
          ],
          "name": "stdout"
        }
      ]
    },
    {
      "cell_type": "markdown",
      "metadata": {
        "id": "VntK97VVTkyI"
      },
      "source": [
        "# Random Forest Classifier"
      ]
    },
    {
      "cell_type": "code",
      "metadata": {
        "id": "q-UQnr6KU01Y"
      },
      "source": [
        "# import RandomForestClassifier\n",
        "from sklearn.ensemble import RandomForestClassifier"
      ],
      "execution_count": 13,
      "outputs": []
    },
    {
      "cell_type": "code",
      "metadata": {
        "colab": {
          "base_uri": "https://localhost:8080/"
        },
        "id": "tizD1W4LR-02",
        "outputId": "87cc1327-1322-421b-d31a-c70161b59daa"
      },
      "source": [
        "# Create the Random forest classifier and fit it to our training data\n",
        "cld_rf = RandomForestClassifier(random_state=7, n_estimators=100)\n",
        "\n",
        "cld_rf.fit(train_X, train_y)"
      ],
      "execution_count": 14,
      "outputs": [
        {
          "output_type": "execute_result",
          "data": {
            "text/plain": [
              "RandomForestClassifier(bootstrap=True, ccp_alpha=0.0, class_weight=None,\n",
              "                       criterion='gini', max_depth=None, max_features='auto',\n",
              "                       max_leaf_nodes=None, max_samples=None,\n",
              "                       min_impurity_decrease=0.0, min_impurity_split=None,\n",
              "                       min_samples_leaf=1, min_samples_split=2,\n",
              "                       min_weight_fraction_leaf=0.0, n_estimators=100,\n",
              "                       n_jobs=None, oob_score=False, random_state=7, verbose=0,\n",
              "                       warm_start=False)"
            ]
          },
          "metadata": {
            "tags": []
          },
          "execution_count": 14
        }
      ]
    },
    {
      "cell_type": "code",
      "metadata": {
        "colab": {
          "base_uri": "https://localhost:8080/"
        },
        "id": "FTvvDmCEUl2t",
        "outputId": "4305a061-909b-49ef-df0b-665c19fe0448"
      },
      "source": [
        "# Predict classes given the validation features\n",
        "pred_y = cld_rf.predict(val_X)\n",
        "\n",
        "# Calculate the accuracy as our performance metric\n",
        "accuracy = metrics.accuracy_score(val_y, pred_y)\n",
        "accuracy_scores.append(accuracy)\n",
        "print(\"Accuracy: \", accuracy)"
      ],
      "execution_count": 15,
      "outputs": [
        {
          "output_type": "stream",
          "text": [
            "Accuracy:  0.8866666666666667\n"
          ],
          "name": "stdout"
        }
      ]
    },
    {
      "cell_type": "markdown",
      "metadata": {
        "id": "MC0BbiH_V3tO"
      },
      "source": [
        "# Logistic Regression Classifier"
      ]
    },
    {
      "cell_type": "code",
      "metadata": {
        "id": "yW7ogw55VZRU"
      },
      "source": [
        "# import LogisticRegression\n",
        "from sklearn.linear_model import LogisticRegression"
      ],
      "execution_count": 16,
      "outputs": []
    },
    {
      "cell_type": "markdown",
      "metadata": {
        "id": "szzpC1jiWgVd"
      },
      "source": [
        "#### Feature Scaling"
      ]
    },
    {
      "cell_type": "code",
      "metadata": {
        "id": "7ZFLqSQpWeyE"
      },
      "source": [
        "# data scaling with sklearn\n",
        "from sklearn.preprocessing import StandardScaler\n",
        "\n",
        "# fit scaler on training data\n",
        "scal = StandardScaler().fit(train_X)\n",
        "\n",
        "# transform training data\n",
        "X_train_scal = scal.transform(train_X)\n",
        "\n",
        "# transform validation dataabs\n",
        "X_val_scal = scal.transform(val_X)"
      ],
      "execution_count": 17,
      "outputs": []
    },
    {
      "cell_type": "code",
      "metadata": {
        "colab": {
          "base_uri": "https://localhost:8080/"
        },
        "id": "sAW_v2INXdOR",
        "outputId": "2a1e781a-0aad-4a86-cf79-d37284af6290"
      },
      "source": [
        "# Create the LogisticRegression classifier and fit it to our training data\n",
        "cld_lr = LogisticRegression()\n",
        "\n",
        "cld_lr.fit(X_train_scal, train_y)"
      ],
      "execution_count": 18,
      "outputs": [
        {
          "output_type": "execute_result",
          "data": {
            "text/plain": [
              "LogisticRegression(C=1.0, class_weight=None, dual=False, fit_intercept=True,\n",
              "                   intercept_scaling=1, l1_ratio=None, max_iter=100,\n",
              "                   multi_class='auto', n_jobs=None, penalty='l2',\n",
              "                   random_state=None, solver='lbfgs', tol=0.0001, verbose=0,\n",
              "                   warm_start=False)"
            ]
          },
          "metadata": {
            "tags": []
          },
          "execution_count": 18
        }
      ]
    },
    {
      "cell_type": "code",
      "metadata": {
        "colab": {
          "base_uri": "https://localhost:8080/"
        },
        "id": "myk8tXlUX15u",
        "outputId": "e9e1e726-0130-4a2d-b66b-0bbd0d7c1cf8"
      },
      "source": [
        "# Predict classes given the validation features\n",
        "pred_y = cld_lr.predict(X_val_scal)\n",
        "\n",
        "# Calculate the accuracy as our performance metric\n",
        "accuracy = metrics.accuracy_score(val_y, pred_y)\n",
        "accuracy_scores.append(accuracy)\n",
        "print(\"Accuracy: \", accuracy)"
      ],
      "execution_count": 19,
      "outputs": [
        {
          "output_type": "stream",
          "text": [
            "Accuracy:  0.9133333333333333\n"
          ],
          "name": "stdout"
        }
      ]
    },
    {
      "cell_type": "markdown",
      "metadata": {
        "id": "ulQBCvOUkhIu"
      },
      "source": [
        "# Models Score Plot"
      ]
    },
    {
      "cell_type": "code",
      "metadata": {
        "id": "w5X5Zw-gkl2h"
      },
      "source": [
        "import numpy as np\n",
        "import matplotlib.pyplot as plt"
      ],
      "execution_count": 20,
      "outputs": []
    },
    {
      "cell_type": "code",
      "metadata": {
        "colab": {
          "base_uri": "https://localhost:8080/",
          "height": 352
        },
        "id": "o5ZrG64kkoCN",
        "outputId": "84a779ab-ac82-4a68-c115-243491b6db9e"
      },
      "source": [
        "models = ['Decision Tree', 'Random Forest', 'Logistic Regression']\n",
        "fig = plt.figure()\n",
        "ax = fig.add_axes([0,0,1,1])\n",
        "ax.bar(models,accuracy_scores)\n",
        "ax.set_ylabel('Accuracy Score')\n",
        "ax.set_title('Models')\n",
        "plt.show()"
      ],
      "execution_count": 21,
      "outputs": [
        {
          "output_type": "display_data",
          "data": {
            "image/png": "[encoded data removed]",
            "text/plain": [
              "<Figure size 432x288 with 1 Axes>"
            ]
          },
          "metadata": {
            "tags": [],
            "needs_background": "light"
          }
        }
      ]
    },
    {
      "cell_type": "markdown",
      "metadata": {
        "id": "6ZfSfSwiaOIo"
      },
      "source": [
        "# Prediction on Test Dataset"
      ]
    },
    {
      "cell_type": "markdown",
      "metadata": {
        "id": "JvdC7axvadqr"
      },
      "source": [
        "### Selecting Logistic Regression model, because it has 91% accuracy"
      ]
    },
    {
      "cell_type": "code",
      "metadata": {
        "colab": {
          "base_uri": "https://localhost:8080/",
          "height": 202
        },
        "id": "AGwb-K0RaScM",
        "outputId": "640db92e-50da-4945-ab11-6e679806bcfb"
      },
      "source": [
        "df_test.head()"
      ],
      "execution_count": 22,
      "outputs": [
        {
          "output_type": "execute_result",
          "data": {
            "text/html": [
              "<div>\n",
              "<style scoped>\n",
              "    .dataframe tbody tr th:only-of-type {\n",
              "        vertical-align: middle;\n",
              "    }\n",
              "\n",
              "    .dataframe tbody tr th {\n",
              "        vertical-align: top;\n",
              "    }\n",
              "\n",
              "    .dataframe thead th {\n",
              "        text-align: right;\n",
              "    }\n",
              "</style>\n",
              "<table border=\"1\" class=\"dataframe\">\n",
              "  <thead>\n",
              "    <tr style=\"text-align: right;\">\n",
              "      <th></th>\n",
              "      <th>F1</th>\n",
              "      <th>F2</th>\n",
              "      <th>F3</th>\n",
              "      <th>F4</th>\n",
              "      <th>F5</th>\n",
              "      <th>F6</th>\n",
              "      <th>F7</th>\n",
              "      <th>F8</th>\n",
              "      <th>F9</th>\n",
              "      <th>F10</th>\n",
              "      <th>F11</th>\n",
              "      <th>F12</th>\n",
              "      <th>F13</th>\n",
              "      <th>F14</th>\n",
              "      <th>F15</th>\n",
              "      <th>Class</th>\n",
              "    </tr>\n",
              "  </thead>\n",
              "  <tbody>\n",
              "    <tr>\n",
              "      <th>1</th>\n",
              "      <td>3</td>\n",
              "      <td>196.88</td>\n",
              "      <td>-31.74</td>\n",
              "      <td>-31.54</td>\n",
              "      <td>1.48</td>\n",
              "      <td>368.22</td>\n",
              "      <td>-0.90</td>\n",
              "      <td>-6.35</td>\n",
              "      <td>-12.63</td>\n",
              "      <td>1.64</td>\n",
              "      <td>-18.34</td>\n",
              "      <td>7.89</td>\n",
              "      <td>-3.77</td>\n",
              "      <td>10</td>\n",
              "      <td>8.81</td>\n",
              "      <td>NaN</td>\n",
              "    </tr>\n",
              "    <tr>\n",
              "      <th>4</th>\n",
              "      <td>3</td>\n",
              "      <td>218.88</td>\n",
              "      <td>-33.51</td>\n",
              "      <td>-33.38</td>\n",
              "      <td>0.68</td>\n",
              "      <td>263.22</td>\n",
              "      <td>1.41</td>\n",
              "      <td>-6.80</td>\n",
              "      <td>-22.26</td>\n",
              "      <td>1.01</td>\n",
              "      <td>-22.90</td>\n",
              "      <td>7.89</td>\n",
              "      <td>-3.56</td>\n",
              "      <td>106</td>\n",
              "      <td>7.28</td>\n",
              "      <td>NaN</td>\n",
              "    </tr>\n",
              "    <tr>\n",
              "      <th>7</th>\n",
              "      <td>30</td>\n",
              "      <td>26.88</td>\n",
              "      <td>-24.09</td>\n",
              "      <td>-17.44</td>\n",
              "      <td>14.20</td>\n",
              "      <td>398.22</td>\n",
              "      <td>-4.38</td>\n",
              "      <td>-2.64</td>\n",
              "      <td>-12.69</td>\n",
              "      <td>8.00</td>\n",
              "      <td>-9.36</td>\n",
              "      <td>10.89</td>\n",
              "      <td>-8.19</td>\n",
              "      <td>60</td>\n",
              "      <td>6.52</td>\n",
              "      <td>NaN</td>\n",
              "    </tr>\n",
              "    <tr>\n",
              "      <th>8</th>\n",
              "      <td>30</td>\n",
              "      <td>286.88</td>\n",
              "      <td>-30.27</td>\n",
              "      <td>-17.42</td>\n",
              "      <td>10.00</td>\n",
              "      <td>338.22</td>\n",
              "      <td>-3.07</td>\n",
              "      <td>-2.65</td>\n",
              "      <td>-10.98</td>\n",
              "      <td>6.05</td>\n",
              "      <td>-10.68</td>\n",
              "      <td>20.89</td>\n",
              "      <td>-9.44</td>\n",
              "      <td>120</td>\n",
              "      <td>7.26</td>\n",
              "      <td>NaN</td>\n",
              "    </tr>\n",
              "    <tr>\n",
              "      <th>10</th>\n",
              "      <td>3</td>\n",
              "      <td>184.88</td>\n",
              "      <td>-32.22</td>\n",
              "      <td>-32.50</td>\n",
              "      <td>1.30</td>\n",
              "      <td>251.22</td>\n",
              "      <td>1.63</td>\n",
              "      <td>-6.75</td>\n",
              "      <td>-14.82</td>\n",
              "      <td>1.24</td>\n",
              "      <td>-25.94</td>\n",
              "      <td>7.89</td>\n",
              "      <td>-3.13</td>\n",
              "      <td>18</td>\n",
              "      <td>7.69</td>\n",
              "      <td>NaN</td>\n",
              "    </tr>\n",
              "  </tbody>\n",
              "</table>\n",
              "</div>"
            ],
            "text/plain": [
              "    F1      F2     F3     F4     F5  ...    F12   F13  F14   F15  Class\n",
              "1    3  196.88 -31.74 -31.54   1.48  ...   7.89 -3.77   10  8.81    NaN\n",
              "4    3  218.88 -33.51 -33.38   0.68  ...   7.89 -3.56  106  7.28    NaN\n",
              "7   30   26.88 -24.09 -17.44  14.20  ...  10.89 -8.19   60  6.52    NaN\n",
              "8   30  286.88 -30.27 -17.42  10.00  ...  20.89 -9.44  120  7.26    NaN\n",
              "10   3  184.88 -32.22 -32.50   1.30  ...   7.89 -3.13   18  7.69    NaN\n",
              "\n",
              "[5 rows x 16 columns]"
            ]
          },
          "metadata": {
            "tags": []
          },
          "execution_count": 22
        }
      ]
    },
    {
      "cell_type": "code",
      "metadata": {
        "id": "_xxBrqN8bURD"
      },
      "source": [
        "X = df_test.drop('Class', axis=1)"
      ],
      "execution_count": 23,
      "outputs": []
    },
    {
      "cell_type": "markdown",
      "metadata": {
        "id": "8JkyCs6jbNiX"
      },
      "source": [
        "### Feature Scaling"
      ]
    },
    {
      "cell_type": "code",
      "metadata": {
        "id": "yfR-E5C4bAYv"
      },
      "source": [
        "# data Scaling with sklearn\n",
        "from sklearn.preprocessing import StandardScaler\n",
        "\n",
        "# fit scaler on data\n",
        "scal = StandardScaler().fit(X)\n",
        "\n",
        "# transform data\n",
        "X_scal = scal.transform(X)"
      ],
      "execution_count": 24,
      "outputs": []
    },
    {
      "cell_type": "code",
      "metadata": {
        "id": "nkKuEWkpboH2"
      },
      "source": [
        "# Predict classes given the test features with Logistic Regression\n",
        "pred_y = cld_lr.predict(X_scal)"
      ],
      "execution_count": 25,
      "outputs": []
    },
    {
      "cell_type": "code",
      "metadata": {
        "colab": {
          "base_uri": "https://localhost:8080/",
          "height": 202
        },
        "id": "4640YiVkb0qs",
        "outputId": "e6700e26-8776-465e-ec9e-4161e860a4a1"
      },
      "source": [
        "# Setting Class column to predicted values\n",
        "X[\"Class\"] = pred_y\n",
        "X.head()"
      ],
      "execution_count": 26,
      "outputs": [
        {
          "output_type": "execute_result",
          "data": {
            "text/html": [
              "<div>\n",
              "<style scoped>\n",
              "    .dataframe tbody tr th:only-of-type {\n",
              "        vertical-align: middle;\n",
              "    }\n",
              "\n",
              "    .dataframe tbody tr th {\n",
              "        vertical-align: top;\n",
              "    }\n",
              "\n",
              "    .dataframe thead th {\n",
              "        text-align: right;\n",
              "    }\n",
              "</style>\n",
              "<table border=\"1\" class=\"dataframe\">\n",
              "  <thead>\n",
              "    <tr style=\"text-align: right;\">\n",
              "      <th></th>\n",
              "      <th>F1</th>\n",
              "      <th>F2</th>\n",
              "      <th>F3</th>\n",
              "      <th>F4</th>\n",
              "      <th>F5</th>\n",
              "      <th>F6</th>\n",
              "      <th>F7</th>\n",
              "      <th>F8</th>\n",
              "      <th>F9</th>\n",
              "      <th>F10</th>\n",
              "      <th>F11</th>\n",
              "      <th>F12</th>\n",
              "      <th>F13</th>\n",
              "      <th>F14</th>\n",
              "      <th>F15</th>\n",
              "      <th>Class</th>\n",
              "    </tr>\n",
              "  </thead>\n",
              "  <tbody>\n",
              "    <tr>\n",
              "      <th>1</th>\n",
              "      <td>3</td>\n",
              "      <td>196.88</td>\n",
              "      <td>-31.74</td>\n",
              "      <td>-31.54</td>\n",
              "      <td>1.48</td>\n",
              "      <td>368.22</td>\n",
              "      <td>-0.90</td>\n",
              "      <td>-6.35</td>\n",
              "      <td>-12.63</td>\n",
              "      <td>1.64</td>\n",
              "      <td>-18.34</td>\n",
              "      <td>7.89</td>\n",
              "      <td>-3.77</td>\n",
              "      <td>10</td>\n",
              "      <td>8.81</td>\n",
              "      <td>True</td>\n",
              "    </tr>\n",
              "    <tr>\n",
              "      <th>4</th>\n",
              "      <td>3</td>\n",
              "      <td>218.88</td>\n",
              "      <td>-33.51</td>\n",
              "      <td>-33.38</td>\n",
              "      <td>0.68</td>\n",
              "      <td>263.22</td>\n",
              "      <td>1.41</td>\n",
              "      <td>-6.80</td>\n",
              "      <td>-22.26</td>\n",
              "      <td>1.01</td>\n",
              "      <td>-22.90</td>\n",
              "      <td>7.89</td>\n",
              "      <td>-3.56</td>\n",
              "      <td>106</td>\n",
              "      <td>7.28</td>\n",
              "      <td>False</td>\n",
              "    </tr>\n",
              "    <tr>\n",
              "      <th>7</th>\n",
              "      <td>30</td>\n",
              "      <td>26.88</td>\n",
              "      <td>-24.09</td>\n",
              "      <td>-17.44</td>\n",
              "      <td>14.20</td>\n",
              "      <td>398.22</td>\n",
              "      <td>-4.38</td>\n",
              "      <td>-2.64</td>\n",
              "      <td>-12.69</td>\n",
              "      <td>8.00</td>\n",
              "      <td>-9.36</td>\n",
              "      <td>10.89</td>\n",
              "      <td>-8.19</td>\n",
              "      <td>60</td>\n",
              "      <td>6.52</td>\n",
              "      <td>False</td>\n",
              "    </tr>\n",
              "    <tr>\n",
              "      <th>8</th>\n",
              "      <td>30</td>\n",
              "      <td>286.88</td>\n",
              "      <td>-30.27</td>\n",
              "      <td>-17.42</td>\n",
              "      <td>10.00</td>\n",
              "      <td>338.22</td>\n",
              "      <td>-3.07</td>\n",
              "      <td>-2.65</td>\n",
              "      <td>-10.98</td>\n",
              "      <td>6.05</td>\n",
              "      <td>-10.68</td>\n",
              "      <td>20.89</td>\n",
              "      <td>-9.44</td>\n",
              "      <td>120</td>\n",
              "      <td>7.26</td>\n",
              "      <td>False</td>\n",
              "    </tr>\n",
              "    <tr>\n",
              "      <th>10</th>\n",
              "      <td>3</td>\n",
              "      <td>184.88</td>\n",
              "      <td>-32.22</td>\n",
              "      <td>-32.50</td>\n",
              "      <td>1.30</td>\n",
              "      <td>251.22</td>\n",
              "      <td>1.63</td>\n",
              "      <td>-6.75</td>\n",
              "      <td>-14.82</td>\n",
              "      <td>1.24</td>\n",
              "      <td>-25.94</td>\n",
              "      <td>7.89</td>\n",
              "      <td>-3.13</td>\n",
              "      <td>18</td>\n",
              "      <td>7.69</td>\n",
              "      <td>False</td>\n",
              "    </tr>\n",
              "  </tbody>\n",
              "</table>\n",
              "</div>"
            ],
            "text/plain": [
              "    F1      F2     F3     F4     F5  ...    F12   F13  F14   F15  Class\n",
              "1    3  196.88 -31.74 -31.54   1.48  ...   7.89 -3.77   10  8.81   True\n",
              "4    3  218.88 -33.51 -33.38   0.68  ...   7.89 -3.56  106  7.28  False\n",
              "7   30   26.88 -24.09 -17.44  14.20  ...  10.89 -8.19   60  6.52  False\n",
              "8   30  286.88 -30.27 -17.42  10.00  ...  20.89 -9.44  120  7.26  False\n",
              "10   3  184.88 -32.22 -32.50   1.30  ...   7.89 -3.13   18  7.69  False\n",
              "\n",
              "[5 rows x 16 columns]"
            ]
          },
          "metadata": {
            "tags": []
          },
          "execution_count": 26
        }
      ]
    },
    {
      "cell_type": "code",
      "metadata": {
        "id": "A3a7xzZVcTAg"
      },
      "source": [
        "# Exporting Tested data as csv file\n",
        "X.to_csv(\"CE802_P2_Test.csv\", index = False)"
      ],
      "execution_count": 27,
      "outputs": []
    },
    {
      "cell_type": "code",
      "metadata": {
        "id": "lL0lAoy2_fGk"
      },
      "source": [
        ""
      ],
      "execution_count": 27,
      "outputs": []
    }
  ]
}